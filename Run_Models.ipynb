{
 "cells": [
  {
   "cell_type": "code",
   "execution_count": 3,
   "id": "02e7642c",
   "metadata": {},
   "outputs": [],
   "source": [
    "import numpy as np\n",
    "import matplotlib.pyplot as plt\n",
    "import matplotlib\n",
    "import polars as pl\n",
    "from pathlib import Path\n",
    "import data_visualization as dv\n",
    "from time import time\n",
    "import copy\n",
    "import importlib\n",
    "import GTO\n",
    "import dyad_gt_params as param\n",
    "import constants as const\n",
    "import plot_functions as pf\n",
    "import model_functions as mf\n"
   ]
  },
  {
   "cell_type": "markdown",
   "id": "60343fd6",
   "metadata": {},
   "source": [
    "# Notebook Outline"
   ]
  },
  {
   "cell_type": "markdown",
   "id": "abb4e787",
   "metadata": {},
   "source": [
    "# Parameter Setup"
   ]
  },
  {
   "cell_type": "code",
   "execution_count": 4,
   "id": "4e800978",
   "metadata": {},
   "outputs": [
    {
     "ename": "SyntaxError",
     "evalue": "invalid syntax. Perhaps you forgot a comma? (1765650026.py, line 20)",
     "output_type": "error",
     "traceback": [
      "  \u001b[36mCell\u001b[39m\u001b[36m \u001b[39m\u001b[32mIn[4]\u001b[39m\u001b[32m, line 20\u001b[39m\n\u001b[31m    \u001b[39m\u001b[31mparam.IRREL_QVAL #  Both irrelevant\u001b[39m\n    ^\n\u001b[31mSyntaxError\u001b[39m\u001b[31m:\u001b[39m invalid syntax. Perhaps you forgot a comma?\n"
     ]
    }
   ],
   "source": [
    "HIT_TIME = 0.8\n",
    "h=0.01\n",
    "\n",
    "Q1 = mf.generate_Q(\n",
    "    weight_dict=param.Q1_WEIGHTS, \n",
    "    state_mapping=param.state_mapping, \n",
    "    cross_terms=[[\"ccx\",\"ctx\"], [\"ccy\",\"cty\"], \n",
    "                 [\"rhy\",\"lhy\"]], \n",
    "    QVAL=param.QVAL\n",
    ")\n",
    "Q2 = mf.generate_Q(\n",
    "    weight_dict=param.Q2_WEIGHTS, \n",
    "    state_mapping=param.state_mapping, \n",
    "    cross_terms=[[\"ccx\",\"ctx\"], [\"ccy\",\"cty\"],\n",
    "                    [\"rhy\",\"lhy\"]], \n",
    "    QVAL = param.QVAL,\n",
    ")\n",
    "\n",
    "Q1_xvals = [\n",
    "    param.IRREL_QVAL #  Both irrelevant\n",
    "    param.QVAL, # P1 Relevant\n",
    "    param.IRREL_QVAL, # P2 Relevant\n",
    "    param.QVAL, # Both Relevant\n",
    "]\n",
    "Q2_xvals = [\n",
    "    param.IRREL_QVAL #  Both irrelevant\n",
    "    param.IRREL_QVAL, # P1 Relevant\n",
    "    param.QVAL, # P2 Relevant\n",
    "    param.QVAL, # Both Relevant\n",
    "]"
   ]
  },
  {
   "cell_type": "markdown",
   "id": "422dd252",
   "metadata": {},
   "source": []
  }
 ],
 "metadata": {
  "kernelspec": {
   "display_name": "hh-lqg",
   "language": "python",
   "name": "python3"
  },
  "language_info": {
   "codemirror_mode": {
    "name": "ipython",
    "version": 3
   },
   "file_extension": ".py",
   "mimetype": "text/x-python",
   "name": "python",
   "nbconvert_exporter": "python",
   "pygments_lexer": "ipython3",
   "version": "3.13.5"
  }
 },
 "nbformat": 4,
 "nbformat_minor": 5
}
